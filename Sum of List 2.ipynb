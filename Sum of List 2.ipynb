{
 "cells": [
  {
   "cell_type": "markdown",
   "id": "72d156f4",
   "metadata": {},
   "source": [
    " Python function to sum all the numbers in a list."
   ]
  },
  {
   "cell_type": "code",
   "execution_count": 1,
   "id": "00014916",
   "metadata": {},
   "outputs": [
    {
     "name": "stdout",
     "output_type": "stream",
     "text": [
      "Sum of all numbers in the given list is:  20\n"
     ]
    }
   ],
   "source": [
    "l = [8, 2, 3, 0, 7]    # Sample list\n",
    "\n",
    "total = sum(l)         # sum() is a built_in function which calculate sum of iterable numbers.\n",
    "print(\"Sum of all numbers in the given list is: \", total)"
   ]
  }
 ],
 "metadata": {
  "kernelspec": {
   "display_name": "Python 3",
   "language": "python",
   "name": "python3"
  },
  "language_info": {
   "codemirror_mode": {
    "name": "ipython",
    "version": 3
   },
   "file_extension": ".py",
   "mimetype": "text/x-python",
   "name": "python",
   "nbconvert_exporter": "python",
   "pygments_lexer": "ipython3",
   "version": "3.8.8"
  }
 },
 "nbformat": 4,
 "nbformat_minor": 5
}
