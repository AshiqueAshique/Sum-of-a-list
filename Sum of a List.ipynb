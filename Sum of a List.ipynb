{
 "cells": [
  {
   "cell_type": "code",
   "execution_count": 3,
   "id": "4c52edde",
   "metadata": {},
   "outputs": [],
   "source": [
    "def sum_of_l(l):          # Python function to sum all the numbers in a list\n",
    "    total = 0\n",
    "    for i in range(0,len(l)):    \n",
    "        total += l[i]\n",
    "    print(\"Sum of all numbers in the given list is: \", total)"
   ]
  },
  {
   "cell_type": "code",
   "execution_count": 4,
   "id": "1799073f",
   "metadata": {},
   "outputs": [
    {
     "name": "stdout",
     "output_type": "stream",
     "text": [
      "Sum of all numbers in the given list is:  20\n"
     ]
    }
   ],
   "source": [
    "l = [8, 2, 3, 0, 7]     #sample list\n",
    "sum_of_l(l)     #Function call"
   ]
  }
 ],
 "metadata": {
  "kernelspec": {
   "display_name": "Python 3",
   "language": "python",
   "name": "python3"
  },
  "language_info": {
   "codemirror_mode": {
    "name": "ipython",
    "version": 3
   },
   "file_extension": ".py",
   "mimetype": "text/x-python",
   "name": "python",
   "nbconvert_exporter": "python",
   "pygments_lexer": "ipython3",
   "version": "3.8.8"
  }
 },
 "nbformat": 4,
 "nbformat_minor": 5
}
