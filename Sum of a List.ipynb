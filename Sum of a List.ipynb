{
 "cells": [
  {
   "cell_type": "code",
   "execution_count": 10,
   "id": "f146b5ec",
   "metadata": {},
   "outputs": [],
   "source": [
    "def sum_of_l(l):          # Python function to sum all the numbers in a list\n",
    "    total = 0\n",
    "    for i in range(0,len(l)):    \n",
    "        total += l[i]\n",
    "    return total          # function returns the sum in total variable"
   ]
  },
  {
   "cell_type": "code",
   "execution_count": 11,
   "id": "fd3167c6",
   "metadata": {},
   "outputs": [
    {
     "name": "stdout",
     "output_type": "stream",
     "text": [
      "Sum of all numbers in the given list is:  20\n"
     ]
    }
   ],
   "source": [
    "l = [8, 2, 3, 0, 7]     #sample list\n",
    "s = sum_of_l(l)     #Function call\n",
    "print(\"Sum of all numbers in the given list is: \", s)"
   ]
  },
  {
   "cell_type": "code",
   "execution_count": null,
   "id": "b6ce2524",
   "metadata": {},
   "outputs": [],
   "source": []
  }
 ],
 "metadata": {
  "kernelspec": {
   "display_name": "Python 3",
   "language": "python",
   "name": "python3"
  },
  "language_info": {
   "codemirror_mode": {
    "name": "ipython",
    "version": 3
   },
   "file_extension": ".py",
   "mimetype": "text/x-python",
   "name": "python",
   "nbconvert_exporter": "python",
   "pygments_lexer": "ipython3",
   "version": "3.8.8"
  }
 },
 "nbformat": 4,
 "nbformat_minor": 5
}
